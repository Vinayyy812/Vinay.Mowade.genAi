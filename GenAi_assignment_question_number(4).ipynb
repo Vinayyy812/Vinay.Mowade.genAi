{
  "nbformat": 4,
  "nbformat_minor": 0,
  "metadata": {
    "colab": {
      "provenance": []
    },
    "kernelspec": {
      "name": "python3",
      "display_name": "Python 3"
    },
    "language_info": {
      "name": "python"
    }
  },
  "cells": [
    {
      "cell_type": "markdown",
      "source": [
        "(Q4) **Bank Interest Calculation**\n",
        "You need to calculate interest for a bank account over six months based on the minimum monthly balance. The steps to calculate are as follows:\n",
        "\n",
        "1) Find the minimum balance for each month.\n",
        "\n",
        "2) Sum these minimum balances.\n",
        "\n",
        "3) Calculate the interest on this sum based on a given interest rate.\n",
        "\n",
        "4) Show the interest earned over six months."
      ],
      "metadata": {
        "id": "9RjQVr8xafBp"
      }
    },
    {
      "cell_type": "code",
      "source": [
        "import random\n",
        "\n",
        "class BankAccount:\n",
        "    def __init__(self, balance, interest_rate):\n",
        "        self.balance = balance\n",
        "        self.interest_rate = interest_rate\n",
        "        self.transactions = self.generate_transactions()\n",
        "\n",
        "    def generate_transactions(self):\n",
        "        transactions = []\n",
        "        for month in range(6):  # 6 months\n",
        "            monthly_transactions = [random.randint(-5000, 5000) for _ in range(10)]\n",
        "            transactions.append(monthly_transactions)\n",
        "        return transactions\n",
        "\n",
        "    def calculate_min_balances(self):\n",
        "        min_balances = []\n",
        "        for month_transactions in self.transactions:\n",
        "            month_balance = self.balance\n",
        "            monthly_balances = [month_balance + sum(month_transactions[:i+1]) for i in range(len(month_transactions))]\n",
        "            min_balances.append(min(monthly_balances))\n",
        "        return min_balances\n",
        "\n",
        "    def calculate_interest(self):\n",
        "        min_balances = self.calculate_min_balances()\n",
        "        total_min_balance = sum(min_balances)\n",
        "        yearly_interest = total_min_balance * (self.interest_rate / 100)\n",
        "        monthly_interest = yearly_interest / 12\n",
        "        six_month_interest = monthly_interest * 6\n",
        "        return six_month_interest\n",
        "\n",
        "    def display_interest(self):\n",
        "        six_month_interest = self.calculate_interest()\n",
        "        print(f'Interest earned over 6 months: ₹{six_month_interest:.2f}')\n",
        "\n",
        "# Example usage:\n",
        "account = BankAccount(balance=500000, interest_rate=4)\n",
        "account.display_interest()\n"
      ],
      "metadata": {
        "colab": {
          "base_uri": "https://localhost:8080/"
        },
        "id": "mv1rcBTrafUh",
        "outputId": "8dd54c4c-60a3-45ab-98ae-b5fcad7263ef"
      },
      "execution_count": 2,
      "outputs": [
        {
          "output_type": "stream",
          "name": "stdout",
          "text": [
            "Interest earned over 6 months: ₹59029.88\n"
          ]
        }
      ]
    }
  ]
}